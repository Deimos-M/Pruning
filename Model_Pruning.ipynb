{
 "cells": [
  {
   "cell_type": "markdown",
   "metadata": {
    "id": "Sx5N-LqZl4nU"
   },
   "source": [
    "# Case Study \n",
    "* Understanding the effects of **Pruning** on model's Performance, Size and Accuracy.\n",
    "\n",
    "**Pruning :- Its is one of the methods for inference to efficiently produce models smaller in size, more memory-efficient, more power-efficient and faster at inference with minimal loss in accuracy .**\n",
    "\n",
    "*It is the tradeoff between accuracy and size that developers usually ready to do.*"
   ]
  },
  {
   "cell_type": "markdown",
   "metadata": {
    "id": "Pus7OrmAl4nW"
   },
   "source": [
    "### Table of Content :-\n",
    "1) Model pruning on basic machine learning model.<br>\n",
    "2) Model pruning on Neural network.<br>\n",
    "3) Results "
   ]
  },
  {
   "cell_type": "markdown",
   "metadata": {
    "id": "dcxevxZhl4nX"
   },
   "source": [
    "* I will keep the model architecture, epochs, dataset and other hyperparameters same to keep the results balanced. The only change will be implementation of pruning."
   ]
  },
  {
   "cell_type": "markdown",
   "metadata": {
    "id": "5jYEMImpl4nY"
   },
   "source": [
    "## 1) Pruning on Machine Learning Model\n",
    "\n",
    "* Classifier used :- Dicision Tree \n",
    "* Dataset Used :- Letter Recognition <a href='https://archive.ics.uci.edu/ml/datasets/Letter+Recognition'>Info about Data</a>\n",
    "* Problem Type :- Multi-class Classification\n",
    "* Target Class :- letter<br>\n",
    "\n",
    "*This the basic form of pruning which is performed on decision tree by changing any of the hyperparameters.*<br>\n",
    "*Sometimes basic model work better than deep NNs ,so it is good to understand them too.*"
   ]
  },
  {
   "cell_type": "code",
   "execution_count": 1,
   "metadata": {
    "id": "vxp87eq_l4nY"
   },
   "outputs": [],
   "source": [
    "#importing libraries\n",
    "\n",
    "import pandas as pd\n",
    "import numpy as np\n",
    "import seaborn as sns\n",
    "import os\n",
    "import time\n",
    "import joblib\n",
    "\n",
    "from sklearn.tree import DecisionTreeClassifier # Importing Decision Tree Classifier\n",
    "from sklearn.model_selection import train_test_split # Importing train_test_split function\n",
    "from sklearn import metrics\n",
    "\n",
    "import matplotlib.pyplot as plt\n",
    "%matplotlib inline"
   ]
  },
  {
   "cell_type": "code",
   "execution_count": null,
   "metadata": {
    "id": "5xC8CXzIl4ne",
    "outputId": "f6a1ee07-f7ab-47c6-9d57-2d6e6937c247"
   },
   "outputs": [
    {
     "data": {
      "text/plain": [
       "(20000, 17)"
      ]
     },
     "execution_count": 2,
     "metadata": {
      "tags": []
     },
     "output_type": "execute_result"
    }
   ],
   "source": [
    "#loading data\n",
    "data = pd.read_csv('letter-recognition.csv')\n",
    "data.shape"
   ]
  },
  {
   "cell_type": "markdown",
   "metadata": {
    "id": "SpKjEdiGl4nj"
   },
   "source": [
    "* There are 20,000 tuples and 17 attributes in this dataset."
   ]
  },
  {
   "cell_type": "code",
   "execution_count": null,
   "metadata": {
    "id": "x7tr22-Xl4nj",
    "outputId": "0c6a8c02-6ada-45d4-88fd-afbbd01a8d21"
   },
   "outputs": [
    {
     "data": {
      "text/html": [
       "<div>\n",
       "<style>\n",
       "    .dataframe thead tr:only-child th {\n",
       "        text-align: right;\n",
       "    }\n",
       "\n",
       "    .dataframe thead th {\n",
       "        text-align: left;\n",
       "    }\n",
       "\n",
       "    .dataframe tbody tr th {\n",
       "        vertical-align: top;\n",
       "    }\n",
       "</style>\n",
       "<table border=\"1\" class=\"dataframe\">\n",
       "  <thead>\n",
       "    <tr style=\"text-align: right;\">\n",
       "      <th></th>\n",
       "      <th>letter</th>\n",
       "      <th>xbox</th>\n",
       "      <th>ybox</th>\n",
       "      <th>width</th>\n",
       "      <th>height</th>\n",
       "      <th>onpix</th>\n",
       "      <th>xbar</th>\n",
       "      <th>ybar</th>\n",
       "      <th>x2bar</th>\n",
       "      <th>y2bar</th>\n",
       "      <th>xybar</th>\n",
       "      <th>x2ybar</th>\n",
       "      <th>xy2bar</th>\n",
       "      <th>xedge</th>\n",
       "      <th>xedgey</th>\n",
       "      <th>yedge</th>\n",
       "      <th>yedgex</th>\n",
       "    </tr>\n",
       "  </thead>\n",
       "  <tbody>\n",
       "    <tr>\n",
       "      <th>0</th>\n",
       "      <td>T</td>\n",
       "      <td>2</td>\n",
       "      <td>8</td>\n",
       "      <td>3</td>\n",
       "      <td>5</td>\n",
       "      <td>1</td>\n",
       "      <td>8</td>\n",
       "      <td>13</td>\n",
       "      <td>0</td>\n",
       "      <td>6</td>\n",
       "      <td>6</td>\n",
       "      <td>10</td>\n",
       "      <td>8</td>\n",
       "      <td>0</td>\n",
       "      <td>8</td>\n",
       "      <td>0</td>\n",
       "      <td>8</td>\n",
       "    </tr>\n",
       "    <tr>\n",
       "      <th>1</th>\n",
       "      <td>I</td>\n",
       "      <td>5</td>\n",
       "      <td>12</td>\n",
       "      <td>3</td>\n",
       "      <td>7</td>\n",
       "      <td>2</td>\n",
       "      <td>10</td>\n",
       "      <td>5</td>\n",
       "      <td>5</td>\n",
       "      <td>4</td>\n",
       "      <td>13</td>\n",
       "      <td>3</td>\n",
       "      <td>9</td>\n",
       "      <td>2</td>\n",
       "      <td>8</td>\n",
       "      <td>4</td>\n",
       "      <td>10</td>\n",
       "    </tr>\n",
       "    <tr>\n",
       "      <th>2</th>\n",
       "      <td>D</td>\n",
       "      <td>4</td>\n",
       "      <td>11</td>\n",
       "      <td>6</td>\n",
       "      <td>8</td>\n",
       "      <td>6</td>\n",
       "      <td>10</td>\n",
       "      <td>6</td>\n",
       "      <td>2</td>\n",
       "      <td>6</td>\n",
       "      <td>10</td>\n",
       "      <td>3</td>\n",
       "      <td>7</td>\n",
       "      <td>3</td>\n",
       "      <td>7</td>\n",
       "      <td>3</td>\n",
       "      <td>9</td>\n",
       "    </tr>\n",
       "    <tr>\n",
       "      <th>3</th>\n",
       "      <td>N</td>\n",
       "      <td>7</td>\n",
       "      <td>11</td>\n",
       "      <td>6</td>\n",
       "      <td>6</td>\n",
       "      <td>3</td>\n",
       "      <td>5</td>\n",
       "      <td>9</td>\n",
       "      <td>4</td>\n",
       "      <td>6</td>\n",
       "      <td>4</td>\n",
       "      <td>4</td>\n",
       "      <td>10</td>\n",
       "      <td>6</td>\n",
       "      <td>10</td>\n",
       "      <td>2</td>\n",
       "      <td>8</td>\n",
       "    </tr>\n",
       "    <tr>\n",
       "      <th>4</th>\n",
       "      <td>G</td>\n",
       "      <td>2</td>\n",
       "      <td>1</td>\n",
       "      <td>3</td>\n",
       "      <td>1</td>\n",
       "      <td>1</td>\n",
       "      <td>8</td>\n",
       "      <td>6</td>\n",
       "      <td>6</td>\n",
       "      <td>6</td>\n",
       "      <td>6</td>\n",
       "      <td>5</td>\n",
       "      <td>9</td>\n",
       "      <td>1</td>\n",
       "      <td>7</td>\n",
       "      <td>5</td>\n",
       "      <td>10</td>\n",
       "    </tr>\n",
       "  </tbody>\n",
       "</table>\n",
       "</div>"
      ],
      "text/plain": [
       "  letter  xbox   ybox   width   height  onpix   xbar   ybar   x2bar  y2bar   \\\n",
       "0      T      2      8       3       5       1      8     13      0       6   \n",
       "1      I      5     12       3       7       2     10      5      5       4   \n",
       "2      D      4     11       6       8       6     10      6      2       6   \n",
       "3      N      7     11       6       6       3      5      9      4       6   \n",
       "4      G      2      1       3       1       1      8      6      6       6   \n",
       "\n",
       "   xybar   x2ybar  xy2bar  xedge   xedgey  yedge   yedgex  \n",
       "0       6      10       8       0       8       0       8  \n",
       "1      13       3       9       2       8       4      10  \n",
       "2      10       3       7       3       7       3       9  \n",
       "3       4       4      10       6      10       2       8  \n",
       "4       6       5       9       1       7       5      10  "
      ]
     },
     "execution_count": 3,
     "metadata": {
      "tags": []
     },
     "output_type": "execute_result"
    }
   ],
   "source": [
    "data.head()"
   ]
  },
  {
   "cell_type": "code",
   "execution_count": null,
   "metadata": {
    "id": "NjbttXIKl4no",
    "outputId": "6eef23fb-f754-402f-9ea6-f9367bf530fc"
   },
   "outputs": [
    {
     "name": "stdout",
     "output_type": "stream",
     "text": [
      "<class 'pandas.core.frame.DataFrame'>\n",
      "RangeIndex: 20000 entries, 0 to 19999\n",
      "Data columns (total 17 columns):\n",
      "letter    20000 non-null object\n",
      "xbox      20000 non-null int64\n",
      "ybox      20000 non-null int64\n",
      "width     20000 non-null int64\n",
      "height    20000 non-null int64\n",
      "onpix     20000 non-null int64\n",
      "xbar      20000 non-null int64\n",
      "ybar      20000 non-null int64\n",
      "x2bar     20000 non-null int64\n",
      "y2bar     20000 non-null int64\n",
      "xybar     20000 non-null int64\n",
      "x2ybar    20000 non-null int64\n",
      "xy2bar    20000 non-null int64\n",
      "xedge     20000 non-null int64\n",
      "xedgey    20000 non-null int64\n",
      "yedge     20000 non-null int64\n",
      "yedgex    20000 non-null int64\n",
      "dtypes: int64(16), object(1)\n",
      "memory usage: 2.6+ MB\n"
     ]
    }
   ],
   "source": [
    "data.info()"
   ]
  },
  {
   "cell_type": "markdown",
   "metadata": {
    "id": "RIiXBZwwl4nr"
   },
   "source": [
    "* Every data point is an integer."
   ]
  },
  {
   "cell_type": "code",
   "execution_count": null,
   "metadata": {
    "id": "jSeVlqZ5l4nr",
    "outputId": "6ee7248e-6797-435e-aa0c-fd2f0c26d1de"
   },
   "outputs": [
    {
     "data": {
      "text/html": [
       "<div>\n",
       "<style>\n",
       "    .dataframe thead tr:only-child th {\n",
       "        text-align: right;\n",
       "    }\n",
       "\n",
       "    .dataframe thead th {\n",
       "        text-align: left;\n",
       "    }\n",
       "\n",
       "    .dataframe tbody tr th {\n",
       "        vertical-align: top;\n",
       "    }\n",
       "</style>\n",
       "<table border=\"1\" class=\"dataframe\">\n",
       "  <thead>\n",
       "    <tr style=\"text-align: right;\">\n",
       "      <th></th>\n",
       "      <th>xbox</th>\n",
       "      <th>ybox</th>\n",
       "      <th>width</th>\n",
       "      <th>height</th>\n",
       "      <th>onpix</th>\n",
       "      <th>xbar</th>\n",
       "      <th>ybar</th>\n",
       "      <th>x2bar</th>\n",
       "      <th>y2bar</th>\n",
       "      <th>xybar</th>\n",
       "      <th>x2ybar</th>\n",
       "      <th>xy2bar</th>\n",
       "      <th>xedge</th>\n",
       "      <th>xedgey</th>\n",
       "      <th>yedge</th>\n",
       "      <th>yedgex</th>\n",
       "    </tr>\n",
       "  </thead>\n",
       "  <tbody>\n",
       "    <tr>\n",
       "      <th>count</th>\n",
       "      <td>20000.000000</td>\n",
       "      <td>20000.000000</td>\n",
       "      <td>20000.000000</td>\n",
       "      <td>20000.00000</td>\n",
       "      <td>20000.000000</td>\n",
       "      <td>20000.000000</td>\n",
       "      <td>20000.000000</td>\n",
       "      <td>20000.000000</td>\n",
       "      <td>20000.000000</td>\n",
       "      <td>20000.000000</td>\n",
       "      <td>20000.00000</td>\n",
       "      <td>20000.000000</td>\n",
       "      <td>20000.000000</td>\n",
       "      <td>20000.000000</td>\n",
       "      <td>20000.000000</td>\n",
       "      <td>20000.00000</td>\n",
       "    </tr>\n",
       "    <tr>\n",
       "      <th>mean</th>\n",
       "      <td>4.023550</td>\n",
       "      <td>7.035500</td>\n",
       "      <td>5.121850</td>\n",
       "      <td>5.37245</td>\n",
       "      <td>3.505850</td>\n",
       "      <td>6.897600</td>\n",
       "      <td>7.500450</td>\n",
       "      <td>4.628600</td>\n",
       "      <td>5.178650</td>\n",
       "      <td>8.282050</td>\n",
       "      <td>6.45400</td>\n",
       "      <td>7.929000</td>\n",
       "      <td>3.046100</td>\n",
       "      <td>8.338850</td>\n",
       "      <td>3.691750</td>\n",
       "      <td>7.80120</td>\n",
       "    </tr>\n",
       "    <tr>\n",
       "      <th>std</th>\n",
       "      <td>1.913212</td>\n",
       "      <td>3.304555</td>\n",
       "      <td>2.014573</td>\n",
       "      <td>2.26139</td>\n",
       "      <td>2.190458</td>\n",
       "      <td>2.026035</td>\n",
       "      <td>2.325354</td>\n",
       "      <td>2.699968</td>\n",
       "      <td>2.380823</td>\n",
       "      <td>2.488475</td>\n",
       "      <td>2.63107</td>\n",
       "      <td>2.080619</td>\n",
       "      <td>2.332541</td>\n",
       "      <td>1.546722</td>\n",
       "      <td>2.567073</td>\n",
       "      <td>1.61747</td>\n",
       "    </tr>\n",
       "    <tr>\n",
       "      <th>min</th>\n",
       "      <td>0.000000</td>\n",
       "      <td>0.000000</td>\n",
       "      <td>0.000000</td>\n",
       "      <td>0.00000</td>\n",
       "      <td>0.000000</td>\n",
       "      <td>0.000000</td>\n",
       "      <td>0.000000</td>\n",
       "      <td>0.000000</td>\n",
       "      <td>0.000000</td>\n",
       "      <td>0.000000</td>\n",
       "      <td>0.00000</td>\n",
       "      <td>0.000000</td>\n",
       "      <td>0.000000</td>\n",
       "      <td>0.000000</td>\n",
       "      <td>0.000000</td>\n",
       "      <td>0.00000</td>\n",
       "    </tr>\n",
       "    <tr>\n",
       "      <th>25%</th>\n",
       "      <td>3.000000</td>\n",
       "      <td>5.000000</td>\n",
       "      <td>4.000000</td>\n",
       "      <td>4.00000</td>\n",
       "      <td>2.000000</td>\n",
       "      <td>6.000000</td>\n",
       "      <td>6.000000</td>\n",
       "      <td>3.000000</td>\n",
       "      <td>4.000000</td>\n",
       "      <td>7.000000</td>\n",
       "      <td>5.00000</td>\n",
       "      <td>7.000000</td>\n",
       "      <td>1.000000</td>\n",
       "      <td>8.000000</td>\n",
       "      <td>2.000000</td>\n",
       "      <td>7.00000</td>\n",
       "    </tr>\n",
       "    <tr>\n",
       "      <th>50%</th>\n",
       "      <td>4.000000</td>\n",
       "      <td>7.000000</td>\n",
       "      <td>5.000000</td>\n",
       "      <td>6.00000</td>\n",
       "      <td>3.000000</td>\n",
       "      <td>7.000000</td>\n",
       "      <td>7.000000</td>\n",
       "      <td>4.000000</td>\n",
       "      <td>5.000000</td>\n",
       "      <td>8.000000</td>\n",
       "      <td>6.00000</td>\n",
       "      <td>8.000000</td>\n",
       "      <td>3.000000</td>\n",
       "      <td>8.000000</td>\n",
       "      <td>3.000000</td>\n",
       "      <td>8.00000</td>\n",
       "    </tr>\n",
       "    <tr>\n",
       "      <th>75%</th>\n",
       "      <td>5.000000</td>\n",
       "      <td>9.000000</td>\n",
       "      <td>6.000000</td>\n",
       "      <td>7.00000</td>\n",
       "      <td>5.000000</td>\n",
       "      <td>8.000000</td>\n",
       "      <td>9.000000</td>\n",
       "      <td>6.000000</td>\n",
       "      <td>7.000000</td>\n",
       "      <td>10.000000</td>\n",
       "      <td>8.00000</td>\n",
       "      <td>9.000000</td>\n",
       "      <td>4.000000</td>\n",
       "      <td>9.000000</td>\n",
       "      <td>5.000000</td>\n",
       "      <td>9.00000</td>\n",
       "    </tr>\n",
       "    <tr>\n",
       "      <th>max</th>\n",
       "      <td>15.000000</td>\n",
       "      <td>15.000000</td>\n",
       "      <td>15.000000</td>\n",
       "      <td>15.00000</td>\n",
       "      <td>15.000000</td>\n",
       "      <td>15.000000</td>\n",
       "      <td>15.000000</td>\n",
       "      <td>15.000000</td>\n",
       "      <td>15.000000</td>\n",
       "      <td>15.000000</td>\n",
       "      <td>15.00000</td>\n",
       "      <td>15.000000</td>\n",
       "      <td>15.000000</td>\n",
       "      <td>15.000000</td>\n",
       "      <td>15.000000</td>\n",
       "      <td>15.00000</td>\n",
       "    </tr>\n",
       "  </tbody>\n",
       "</table>\n",
       "</div>"
      ],
      "text/plain": [
       "              xbox          ybox         width        height        onpix   \\\n",
       "count  20000.000000  20000.000000  20000.000000  20000.00000  20000.000000   \n",
       "mean       4.023550      7.035500      5.121850      5.37245      3.505850   \n",
       "std        1.913212      3.304555      2.014573      2.26139      2.190458   \n",
       "min        0.000000      0.000000      0.000000      0.00000      0.000000   \n",
       "25%        3.000000      5.000000      4.000000      4.00000      2.000000   \n",
       "50%        4.000000      7.000000      5.000000      6.00000      3.000000   \n",
       "75%        5.000000      9.000000      6.000000      7.00000      5.000000   \n",
       "max       15.000000     15.000000     15.000000     15.00000     15.000000   \n",
       "\n",
       "              xbar          ybar          x2bar        y2bar         xybar   \\\n",
       "count  20000.000000  20000.000000  20000.000000  20000.000000  20000.000000   \n",
       "mean       6.897600      7.500450      4.628600      5.178650      8.282050   \n",
       "std        2.026035      2.325354      2.699968      2.380823      2.488475   \n",
       "min        0.000000      0.000000      0.000000      0.000000      0.000000   \n",
       "25%        6.000000      6.000000      3.000000      4.000000      7.000000   \n",
       "50%        7.000000      7.000000      4.000000      5.000000      8.000000   \n",
       "75%        8.000000      9.000000      6.000000      7.000000     10.000000   \n",
       "max       15.000000     15.000000     15.000000     15.000000     15.000000   \n",
       "\n",
       "            x2ybar        xy2bar        xedge         xedgey        yedge   \\\n",
       "count  20000.00000  20000.000000  20000.000000  20000.000000  20000.000000   \n",
       "mean       6.45400      7.929000      3.046100      8.338850      3.691750   \n",
       "std        2.63107      2.080619      2.332541      1.546722      2.567073   \n",
       "min        0.00000      0.000000      0.000000      0.000000      0.000000   \n",
       "25%        5.00000      7.000000      1.000000      8.000000      2.000000   \n",
       "50%        6.00000      8.000000      3.000000      8.000000      3.000000   \n",
       "75%        8.00000      9.000000      4.000000      9.000000      5.000000   \n",
       "max       15.00000     15.000000     15.000000     15.000000     15.000000   \n",
       "\n",
       "            yedgex  \n",
       "count  20000.00000  \n",
       "mean       7.80120  \n",
       "std        1.61747  \n",
       "min        0.00000  \n",
       "25%        7.00000  \n",
       "50%        8.00000  \n",
       "75%        9.00000  \n",
       "max       15.00000  "
      ]
     },
     "execution_count": 5,
     "metadata": {
      "tags": []
     },
     "output_type": "execute_result"
    }
   ],
   "source": [
    "data.describe()"
   ]
  },
  {
   "cell_type": "markdown",
   "metadata": {
    "id": "6402APTEl4nu"
   },
   "source": [
    "* No negative value in any attribute.\n",
    "* Every attribute have same min. and max. value."
   ]
  },
  {
   "cell_type": "code",
   "execution_count": null,
   "metadata": {
    "id": "gKsDKGDDl4nv",
    "outputId": "8bfa9682-f940-4c3c-edce-caa50f456b5a"
   },
   "outputs": [
    {
     "data": {
      "text/html": [
       "<div>\n",
       "<style>\n",
       "    .dataframe thead tr:only-child th {\n",
       "        text-align: right;\n",
       "    }\n",
       "\n",
       "    .dataframe thead th {\n",
       "        text-align: left;\n",
       "    }\n",
       "\n",
       "    .dataframe tbody tr th {\n",
       "        vertical-align: top;\n",
       "    }\n",
       "</style>\n",
       "<table border=\"1\" class=\"dataframe\">\n",
       "  <thead>\n",
       "    <tr style=\"text-align: right;\">\n",
       "      <th></th>\n",
       "      <th>xbox</th>\n",
       "      <th>ybox</th>\n",
       "      <th>width</th>\n",
       "      <th>height</th>\n",
       "      <th>onpix</th>\n",
       "      <th>xbar</th>\n",
       "      <th>ybar</th>\n",
       "      <th>x2bar</th>\n",
       "      <th>y2bar</th>\n",
       "      <th>xybar</th>\n",
       "      <th>x2ybar</th>\n",
       "      <th>xy2bar</th>\n",
       "      <th>xedge</th>\n",
       "      <th>xedgey</th>\n",
       "      <th>yedge</th>\n",
       "      <th>yedgex</th>\n",
       "    </tr>\n",
       "    <tr>\n",
       "      <th>letter</th>\n",
       "      <th></th>\n",
       "      <th></th>\n",
       "      <th></th>\n",
       "      <th></th>\n",
       "      <th></th>\n",
       "      <th></th>\n",
       "      <th></th>\n",
       "      <th></th>\n",
       "      <th></th>\n",
       "      <th></th>\n",
       "      <th></th>\n",
       "      <th></th>\n",
       "      <th></th>\n",
       "      <th></th>\n",
       "      <th></th>\n",
       "      <th></th>\n",
       "    </tr>\n",
       "  </thead>\n",
       "  <tbody>\n",
       "    <tr>\n",
       "      <th>A</th>\n",
       "      <td>3.337136</td>\n",
       "      <td>6.975919</td>\n",
       "      <td>5.128010</td>\n",
       "      <td>5.178707</td>\n",
       "      <td>2.991128</td>\n",
       "      <td>8.851711</td>\n",
       "      <td>3.631179</td>\n",
       "      <td>2.755387</td>\n",
       "      <td>2.043093</td>\n",
       "      <td>7.802281</td>\n",
       "      <td>2.338403</td>\n",
       "      <td>8.465146</td>\n",
       "      <td>2.771863</td>\n",
       "      <td>6.321926</td>\n",
       "      <td>2.875792</td>\n",
       "      <td>7.468948</td>\n",
       "    </tr>\n",
       "    <tr>\n",
       "      <th>B</th>\n",
       "      <td>3.985640</td>\n",
       "      <td>6.962141</td>\n",
       "      <td>5.088773</td>\n",
       "      <td>5.169713</td>\n",
       "      <td>4.596606</td>\n",
       "      <td>7.671018</td>\n",
       "      <td>7.062663</td>\n",
       "      <td>5.366841</td>\n",
       "      <td>5.571802</td>\n",
       "      <td>7.954308</td>\n",
       "      <td>5.506527</td>\n",
       "      <td>6.652742</td>\n",
       "      <td>3.117493</td>\n",
       "      <td>7.919060</td>\n",
       "      <td>6.612272</td>\n",
       "      <td>9.100522</td>\n",
       "    </tr>\n",
       "    <tr>\n",
       "      <th>C</th>\n",
       "      <td>4.031250</td>\n",
       "      <td>7.063859</td>\n",
       "      <td>4.701087</td>\n",
       "      <td>5.296196</td>\n",
       "      <td>2.775815</td>\n",
       "      <td>5.437500</td>\n",
       "      <td>7.627717</td>\n",
       "      <td>5.927989</td>\n",
       "      <td>7.177989</td>\n",
       "      <td>8.773098</td>\n",
       "      <td>7.494565</td>\n",
       "      <td>11.947011</td>\n",
       "      <td>1.991848</td>\n",
       "      <td>8.876359</td>\n",
       "      <td>4.080163</td>\n",
       "      <td>8.555707</td>\n",
       "    </tr>\n",
       "    <tr>\n",
       "      <th>D</th>\n",
       "      <td>4.023602</td>\n",
       "      <td>7.244720</td>\n",
       "      <td>5.170186</td>\n",
       "      <td>5.288199</td>\n",
       "      <td>4.026087</td>\n",
       "      <td>7.539130</td>\n",
       "      <td>6.806211</td>\n",
       "      <td>5.921739</td>\n",
       "      <td>6.508075</td>\n",
       "      <td>8.166460</td>\n",
       "      <td>5.111801</td>\n",
       "      <td>5.750311</td>\n",
       "      <td>3.365217</td>\n",
       "      <td>7.813665</td>\n",
       "      <td>3.971429</td>\n",
       "      <td>7.628571</td>\n",
       "    </tr>\n",
       "    <tr>\n",
       "      <th>E</th>\n",
       "      <td>3.727865</td>\n",
       "      <td>6.944010</td>\n",
       "      <td>4.756510</td>\n",
       "      <td>5.201823</td>\n",
       "      <td>3.679688</td>\n",
       "      <td>5.966146</td>\n",
       "      <td>7.352865</td>\n",
       "      <td>4.223958</td>\n",
       "      <td>7.585938</td>\n",
       "      <td>8.507812</td>\n",
       "      <td>6.242188</td>\n",
       "      <td>10.341146</td>\n",
       "      <td>2.127604</td>\n",
       "      <td>8.298177</td>\n",
       "      <td>6.022135</td>\n",
       "      <td>8.506510</td>\n",
       "    </tr>\n",
       "  </tbody>\n",
       "</table>\n",
       "</div>"
      ],
      "text/plain": [
       "           xbox      ybox     width     height    onpix      xbar      ybar   \\\n",
       "letter                                                                         \n",
       "A       3.337136  6.975919  5.128010  5.178707  2.991128  8.851711  3.631179   \n",
       "B       3.985640  6.962141  5.088773  5.169713  4.596606  7.671018  7.062663   \n",
       "C       4.031250  7.063859  4.701087  5.296196  2.775815  5.437500  7.627717   \n",
       "D       4.023602  7.244720  5.170186  5.288199  4.026087  7.539130  6.806211   \n",
       "E       3.727865  6.944010  4.756510  5.201823  3.679688  5.966146  7.352865   \n",
       "\n",
       "           x2bar    y2bar     xybar     x2ybar     xy2bar    xedge     xedgey  \\\n",
       "letter                                                                          \n",
       "A       2.755387  2.043093  7.802281  2.338403   8.465146  2.771863  6.321926   \n",
       "B       5.366841  5.571802  7.954308  5.506527   6.652742  3.117493  7.919060   \n",
       "C       5.927989  7.177989  8.773098  7.494565  11.947011  1.991848  8.876359   \n",
       "D       5.921739  6.508075  8.166460  5.111801   5.750311  3.365217  7.813665   \n",
       "E       4.223958  7.585938  8.507812  6.242188  10.341146  2.127604  8.298177   \n",
       "\n",
       "          yedge     yedgex  \n",
       "letter                      \n",
       "A       2.875792  7.468948  \n",
       "B       6.612272  9.100522  \n",
       "C       4.080163  8.555707  \n",
       "D       3.971429  7.628571  \n",
       "E       6.022135  8.506510  "
      ]
     },
     "execution_count": 23,
     "metadata": {
      "tags": []
     },
     "output_type": "execute_result"
    }
   ],
   "source": [
    "letter_mean = data.groupby('letter').mean()\n",
    "letter_mean.head()"
   ]
  },
  {
   "cell_type": "code",
   "execution_count": null,
   "metadata": {
    "id": "GutGJhhPl4n1",
    "outputId": "64ad2753-cfd4-4b88-ba0a-4840407a1488"
   },
   "outputs": [
    {
     "data": {
      "text/plain": [
       "<matplotlib.axes._subplots.AxesSubplot at 0x1e9310be5f8>"
      ]
     },
     "execution_count": 24,
     "metadata": {
      "tags": []
     },
     "output_type": "execute_result"
    },
    {
     "data": {
      "image/png": "[encoded data removed]",
      "text/plain": [
       "<Figure size 1296x720 with 2 Axes>"
      ]
     },
     "metadata": {
      "tags": []
     },
     "output_type": "display_data"
    }
   ],
   "source": [
    "plt.figure(figsize=(18, 10))\n",
    "sns.heatmap(letter_means)"
   ]
  },
  {
   "cell_type": "code",
   "execution_count": null,
   "metadata": {
    "id": "RAPxsyjGl4n4",
    "outputId": "d9c21cde-760e-4104-9385-c60b04741f7b"
   },
   "outputs": [
    {
     "data": {
      "text/plain": [
       "U    813\n",
       "D    805\n",
       "P    803\n",
       "T    796\n",
       "M    792\n",
       "A    789\n",
       "X    787\n",
       "Y    786\n",
       "N    783\n",
       "Q    783\n",
       "F    775\n",
       "G    773\n",
       "E    768\n",
       "B    766\n",
       "V    764\n",
       "L    761\n",
       "R    758\n",
       "I    755\n",
       "O    753\n",
       "W    752\n",
       "S    748\n",
       "J    747\n",
       "K    739\n",
       "C    736\n",
       "H    734\n",
       "Z    734\n",
       "Name: letter, dtype: int64"
      ]
     },
     "execution_count": 45,
     "metadata": {
      "tags": []
     },
     "output_type": "execute_result"
    }
   ],
   "source": [
    "val_count = data['letter'].value_counts()\n",
    "val_count"
   ]
  },
  {
   "cell_type": "code",
   "execution_count": null,
   "metadata": {
    "id": "khCuq1TJl4n7",
    "outputId": "b2a42f33-e708-4931-a809-f6aca4e5dc79"
   },
   "outputs": [
    {
     "data": {
      "text/plain": [
       "Text(0,0.5,'Frequency')"
      ]
     },
     "execution_count": 48,
     "metadata": {
      "tags": []
     },
     "output_type": "execute_result"
    },
    {
     "data": {
      "image/png": "[encoded data removed]",
      "text/plain": [
       "<Figure size 432x288 with 1 Axes>"
      ]
     },
     "metadata": {
      "tags": []
     },
     "output_type": "display_data"
    }
   ],
   "source": [
    "fig, ax = plt.subplots() \n",
    "\n",
    "ax.bar(val_count.index, val_count.values) \n",
    "# setting title and labels \n",
    "ax.set_title('Freq. of Each Letter') \n",
    "ax.set_xlabel('Letters') \n",
    "ax.set_ylabel('Frequency')"
   ]
  },
  {
   "cell_type": "markdown",
   "metadata": {
    "id": "zVc9Hyd6l4n-"
   },
   "source": [
    "* According to above plot, it is clear that this dataset is not skewed and each alphabet have almost equal amount of data points."
   ]
  },
  {
   "cell_type": "code",
   "execution_count": null,
   "metadata": {
    "id": "_kQmLUgwl4n-",
    "outputId": "b8374bd3-00dc-45b2-ed2a-a115e3470350"
   },
   "outputs": [
    {
     "data": {
      "text/plain": [
       "letter    0\n",
       "xbox      0\n",
       "ybox      0\n",
       "width     0\n",
       "height    0\n",
       "onpix     0\n",
       "xbar      0\n",
       "ybar      0\n",
       "x2bar     0\n",
       "y2bar     0\n",
       "xybar     0\n",
       "x2ybar    0\n",
       "xy2bar    0\n",
       "xedge     0\n",
       "xedgey    0\n",
       "yedge     0\n",
       "yedgex    0\n",
       "dtype: int64"
      ]
     },
     "execution_count": 11,
     "metadata": {
      "tags": []
     },
     "output_type": "execute_result"
    }
   ],
   "source": [
    "#checking for missing values in the dataset\n",
    "data[data.isnull()==True].count()"
   ]
  },
  {
   "cell_type": "markdown",
   "metadata": {
    "id": "wS3Na8yNl4oC"
   },
   "source": [
    "* According to above result ,there are no missing values in the dataset.\n",
    "* This dataset is already preprocessed and ready for modeling."
   ]
  },
  {
   "cell_type": "code",
   "execution_count": null,
   "metadata": {
    "id": "8WWECtSxl4oC"
   },
   "outputs": [],
   "source": [
    "# seperating into X and y\n",
    "X = data.drop(\"letter\", axis = 1)\n",
    "Y = data['letter']"
   ]
  },
  {
   "cell_type": "code",
   "execution_count": null,
   "metadata": {
    "id": "BN1aNc2Hl4oF"
   },
   "outputs": [],
   "source": [
    "# Split dataset into training set and test set\n",
    "x_train, x_test, y_train, y_test = train_test_split(X, Y, test_size=0.3, random_state=1)"
   ]
  },
  {
   "cell_type": "markdown",
   "metadata": {
    "id": "Yh9wJV7yl4oW"
   },
   "source": [
    "## A) Before Pruning\n",
    "**Building Decision Tree Model**"
   ]
  },
  {
   "cell_type": "code",
   "execution_count": null,
   "metadata": {
    "id": "A1dbwVW-l4oW"
   },
   "outputs": [],
   "source": [
    "# Createing Decision Tree classifer \n",
    "clf = DecisionTreeClassifier()"
   ]
  },
  {
   "cell_type": "code",
   "execution_count": null,
   "metadata": {
    "id": "afSbQT99l4ob",
    "outputId": "22735ec7-2b14-44fa-f068-99d62d097bc1"
   },
   "outputs": [
    {
     "name": "stdout",
     "output_type": "stream",
     "text": [
      "Time Taken for Training : 0.10808992\n"
     ]
    }
   ],
   "source": [
    "# Calculating Training time\n",
    "start = time.time() #starting\n",
    "\n",
    "# Training Decision Tree Classifer\n",
    "clf = clf.fit(x_train,y_train)\n",
    "\n",
    "end = time.time() #stoping\n",
    "\n",
    "temp=end - start\n",
    "print ('Time Taken for Training : %.8f'%temp)"
   ]
  },
  {
   "cell_type": "markdown",
   "metadata": {
    "id": "o2x30YSAl4oj"
   },
   "source": [
    "**Evaluating Model**"
   ]
  },
  {
   "cell_type": "code",
   "execution_count": null,
   "metadata": {
    "id": "r3WAfvbtl4ok",
    "outputId": "3b45ed28-f706-43c0-8ed3-820477e5ad6c"
   },
   "outputs": [
    {
     "name": "stdout",
     "output_type": "stream",
     "text": [
      "Accuracy: 0.8608333333333333\n"
     ]
    }
   ],
   "source": [
    "#Predicting\n",
    "y_pred = clf.predict(x_test)\n",
    "\n",
    "# Model Accuracy\n",
    "print(\"Accuracy:\",metrics.accuracy_score(y_test, y_pred))"
   ]
  },
  {
   "cell_type": "code",
   "execution_count": null,
   "metadata": {
    "id": "Iu3oi5cIl4om",
    "outputId": "18a400f5-25db-47e1-8ba2-d7243bea3060"
   },
   "outputs": [
    {
     "name": "stdout",
     "output_type": "stream",
     "text": [
      "Prediction :  ['Y']\n",
      "Actual Value:  Y\n",
      "Time Taken for predicting one data point : 0.00100112\n"
     ]
    }
   ],
   "source": [
    "#calculating time taken for predicting one data point\n",
    "start = time.time() #starting\n",
    "\n",
    "#Predicting\n",
    "y_pred = clf.predict([x_test.iloc[456]])\n",
    "print(\"Prediction : \",y_pred)\n",
    "\n",
    "end = time.time() #stoping\n",
    "\n",
    "print(\"Actual Value: \",y_test.iloc[456])\n",
    "\n",
    "temp=end - start\n",
    "print ('Time Taken for predicting one data point : %.8f'%temp)"
   ]
  },
  {
   "cell_type": "markdown",
   "metadata": {
    "id": "5cRTTYf8l4op"
   },
   "source": [
    "**Calculating the size of classifier**"
   ]
  },
  {
   "cell_type": "code",
   "execution_count": null,
   "metadata": {
    "id": "MzfckJqml4op",
    "outputId": "1b98dfb5-bace-4230-97a7-ff0bef4d6f22"
   },
   "outputs": [
    {
     "name": "stdout",
     "output_type": "stream",
     "text": [
      "Size of classifier :  953448\n"
     ]
    }
   ],
   "source": [
    "joblib.dump(clf, 'Classifier_before_pruning.sav')#saving\n",
    "\n",
    "print(\"Size of classifier : \",os.stat('Classifier_before_pruning.sav').st_size) #size calc"
   ]
  },
  {
   "cell_type": "markdown",
   "metadata": {
    "id": "BthMlERhl4or"
   },
   "source": [
    "## B) After Pruning\n",
    "**Building Decision Tree Model**"
   ]
  },
  {
   "cell_type": "markdown",
   "metadata": {
    "id": "OxCXsWT2l4os"
   },
   "source": [
    "* criterion : entropy\n",
    "* splitter  : Best(default)\n",
    "* max_depth : 10\n",
    "\n",
    "*There are several other hyperparameters that can be changed to further improve the results*"
   ]
  },
  {
   "cell_type": "code",
   "execution_count": null,
   "metadata": {
    "id": "VIex6dfvl4os"
   },
   "outputs": [],
   "source": [
    "# Createing Decision Tree classifer \n",
    "clf2 = DecisionTreeClassifier(criterion=\"entropy\",max_depth=10)"
   ]
  },
  {
   "cell_type": "code",
   "execution_count": null,
   "metadata": {
    "id": "mw2eGslil4ov",
    "outputId": "03752907-38d7-4031-a446-9332ec2cb48a"
   },
   "outputs": [
    {
     "name": "stdout",
     "output_type": "stream",
     "text": [
      "Time Taken for Training : 0.08238840\n"
     ]
    }
   ],
   "source": [
    "# Calculating Training time\n",
    "start = time.time() #starting\n",
    "\n",
    "# Training Decision Tree Classifer\n",
    "clf2 = clf2.fit(x_train,y_train)\n",
    "\n",
    "end = time.time() #stoping\n",
    "\n",
    "temp=end - start\n",
    "print ('Time Taken for Training : %.8f'%temp)"
   ]
  },
  {
   "cell_type": "markdown",
   "metadata": {
    "id": "tcDHWwPtl4oz"
   },
   "source": [
    "**Evaluating Model**"
   ]
  },
  {
   "cell_type": "code",
   "execution_count": null,
   "metadata": {
    "id": "T0cnbqjAl4oz",
    "outputId": "d5fe99d8-0f22-4ce7-f53b-cd36448ae816"
   },
   "outputs": [
    {
     "name": "stdout",
     "output_type": "stream",
     "text": [
      "Accuracy: 0.7975\n"
     ]
    }
   ],
   "source": [
    "#Predicting\n",
    "y_pred = clf2.predict(x_test)\n",
    "\n",
    "# Model Accuracy\n",
    "print(\"Accuracy:\",metrics.accuracy_score(y_test, y_pred))"
   ]
  },
  {
   "cell_type": "code",
   "execution_count": null,
   "metadata": {
    "id": "1wsJ8nGMl4o3",
    "outputId": "2355b397-d5f4-4604-ae63-56aa45fe979f"
   },
   "outputs": [
    {
     "name": "stdout",
     "output_type": "stream",
     "text": [
      "Prediction :  ['Y']\n",
      "Actual Value:  Y\n",
      "Time Taken for predicting one data point : 0.00100183\n"
     ]
    }
   ],
   "source": [
    "#calculating time taken for predicting one data point\n",
    "start = time.time() #starting\n",
    "\n",
    "#Predicting\n",
    "y_pred = clf2.predict([x_test.iloc[456]])\n",
    "print(\"Prediction : \",y_pred)\n",
    "\n",
    "end = time.time() #stoping\n",
    "\n",
    "print(\"Actual Value: \",y_test.iloc[456])\n",
    "\n",
    "temp=end - start\n",
    "print ('Time Taken for predicting one data point : %.8f'%temp)"
   ]
  },
  {
   "cell_type": "markdown",
   "metadata": {
    "id": "KKz2xIKMl4o6"
   },
   "source": [
    "**Calculating the size of classifier**"
   ]
  },
  {
   "cell_type": "code",
   "execution_count": null,
   "metadata": {
    "id": "7ro3-BJyl4o6",
    "outputId": "aa50b129-824d-46c8-8786-45d33c72f279"
   },
   "outputs": [
    {
     "name": "stdout",
     "output_type": "stream",
     "text": [
      "Size of classifier :  293980\n"
     ]
    }
   ],
   "source": [
    "joblib.dump(clf2, 'Classifier_after_pruning.sav')#saving\n",
    "\n",
    "print(\"Size of classifier : \",os.stat('Classifier_after_pruning.sav').st_size) #size calc"
   ]
  },
  {
   "cell_type": "markdown",
   "metadata": {
    "collapsed": true,
    "id": "q5f5YxPfl4o-"
   },
   "source": [
    "## 2) Pruning on Deep Learning Model\n",
    "\n",
    "* Neural Network used :- Deep neural Network \n",
    "* Dataset Used :- Fashion MNIST <a href='https://keras.io/api/datasets/fashion_mnist/'>Info about Data</a>\n",
    "* Problem Type :- Multi-class Classification<br>\n"
   ]
  },
  {
   "cell_type": "code",
   "execution_count": 99,
   "metadata": {
    "id": "DLLa7Nfol4o-"
   },
   "outputs": [],
   "source": [
    "#importing libraries\n",
    "import tensorflow as tf\n",
    "import numpy as np\n",
    "\n",
    "from tensorflow import keras\n",
    "\n",
    "import tempfile\n",
    "import time\n",
    "import os\n",
    "import zipfile"
   ]
  },
  {
   "cell_type": "code",
   "execution_count": 64,
   "metadata": {
    "colab": {
     "base_uri": "https://localhost:8080/"
    },
    "id": "YnBHukITn-cr",
    "outputId": "bed5caf5-87ca-4aa8-ffd9-50e8196d1527"
   },
   "outputs": [
    {
     "name": "stdout",
     "output_type": "stream",
     "text": [
      "Collecting tensorflow-model-optimization\n",
      "\u001b[?25l  Downloading https://files.pythonhosted.org/packages/55/38/4fd48ea1bfcb0b6e36d949025200426fe9c3a8bfae029f0973d85518fa5a/tensorflow_model_optimization-0.5.0-py2.py3-none-any.whl (172kB)\n",
      "\r",
      "\u001b[K     |██                              | 10kB 17.6MB/s eta 0:00:01\r",
      "\u001b[K     |███▉                            | 20kB 1.6MB/s eta 0:00:01\r",
      "\u001b[K     |█████▊                          | 30kB 2.2MB/s eta 0:00:01\r",
      "\u001b[K     |███████▋                        | 40kB 2.4MB/s eta 0:00:01\r",
      "\u001b[K     |█████████▌                      | 51kB 1.9MB/s eta 0:00:01\r",
      "\u001b[K     |███████████▍                    | 61kB 2.2MB/s eta 0:00:01\r",
      "\u001b[K     |█████████████▎                  | 71kB 2.4MB/s eta 0:00:01\r",
      "\u001b[K     |███████████████▏                | 81kB 2.6MB/s eta 0:00:01\r",
      "\u001b[K     |█████████████████               | 92kB 2.8MB/s eta 0:00:01\r",
      "\u001b[K     |███████████████████             | 102kB 2.7MB/s eta 0:00:01\r",
      "\u001b[K     |████████████████████▉           | 112kB 2.7MB/s eta 0:00:01\r",
      "\u001b[K     |██████████████████████▊         | 122kB 2.7MB/s eta 0:00:01\r",
      "\u001b[K     |████████████████████████▊       | 133kB 2.7MB/s eta 0:00:01\r",
      "\u001b[K     |██████████████████████████▋     | 143kB 2.7MB/s eta 0:00:01\r",
      "\u001b[K     |████████████████████████████▌   | 153kB 2.7MB/s eta 0:00:01\r",
      "\u001b[K     |██████████████████████████████▍ | 163kB 2.7MB/s eta 0:00:01\r",
      "\u001b[K     |████████████████████████████████| 174kB 2.7MB/s \n",
      "\u001b[?25hRequirement already satisfied: numpy~=1.14 in /usr/local/lib/python3.6/dist-packages (from tensorflow-model-optimization) (1.18.5)\n",
      "Requirement already satisfied: six~=1.10 in /usr/local/lib/python3.6/dist-packages (from tensorflow-model-optimization) (1.15.0)\n",
      "Requirement already satisfied: dm-tree~=0.1.1 in /usr/local/lib/python3.6/dist-packages (from tensorflow-model-optimization) (0.1.5)\n",
      "Installing collected packages: tensorflow-model-optimization\n",
      "Successfully installed tensorflow-model-optimization-0.5.0\n"
     ]
    }
   ],
   "source": [
    "!pip install tensorflow-model-optimization"
   ]
  },
  {
   "cell_type": "code",
   "execution_count": null,
   "metadata": {
    "id": "_GUOQ6a89U9l"
   },
   "outputs": [],
   "source": [
    "import tensorflow_model_optimization as tfmot"
   ]
  },
  {
   "cell_type": "code",
   "execution_count": 3,
   "metadata": {
    "colab": {
     "base_uri": "https://localhost:8080/"
    },
    "id": "8RFqTSmrq2Cf",
    "outputId": "462f9ce8-2eb0-485c-bbf7-e1b4c12a426f"
   },
   "outputs": [
    {
     "name": "stdout",
     "output_type": "stream",
     "text": [
      "Downloading data from https://storage.googleapis.com/tensorflow/tf-keras-datasets/train-labels-idx1-ubyte.gz\n",
      "32768/29515 [=================================] - 0s 0us/step\n",
      "Downloading data from https://storage.googleapis.com/tensorflow/tf-keras-datasets/train-images-idx3-ubyte.gz\n",
      "26427392/26421880 [==============================] - 1s 0us/step\n",
      "Downloading data from https://storage.googleapis.com/tensorflow/tf-keras-datasets/t10k-labels-idx1-ubyte.gz\n",
      "8192/5148 [===============================================] - 0s 0us/step\n",
      "Downloading data from https://storage.googleapis.com/tensorflow/tf-keras-datasets/t10k-images-idx3-ubyte.gz\n",
      "4423680/4422102 [==============================] - 0s 0us/step\n"
     ]
    }
   ],
   "source": [
    " (train_images, train_labels), (test_images, test_labels) = tf.keras.datasets.fashion_mnist.load_data()"
   ]
  },
  {
   "cell_type": "code",
   "execution_count": 4,
   "metadata": {
    "colab": {
     "base_uri": "https://localhost:8080/"
    },
    "id": "MUCHccX8rhnn",
    "outputId": "24ca41cc-e13f-48d5-80e9-53ebcb341eb8"
   },
   "outputs": [
    {
     "data": {
      "text/plain": [
       "(60000, 28, 28)"
      ]
     },
     "execution_count": 4,
     "metadata": {
      "tags": []
     },
     "output_type": "execute_result"
    }
   ],
   "source": [
    "train_images.shape"
   ]
  },
  {
   "cell_type": "markdown",
   "metadata": {
    "id": "tZ52zF6Vr0kv"
   },
   "source": [
    "* So there are 60,000 images in training dataset of shape 28x28"
   ]
  },
  {
   "cell_type": "code",
   "execution_count": 6,
   "metadata": {
    "colab": {
     "base_uri": "https://localhost:8080/"
    },
    "id": "NxZklXYkrrag",
    "outputId": "eaade368-7a7b-4ac7-ddff-3a1deeb3a79b"
   },
   "outputs": [
    {
     "data": {
      "text/plain": [
       "(10000, 28, 28)"
      ]
     },
     "execution_count": 6,
     "metadata": {
      "tags": []
     },
     "output_type": "execute_result"
    }
   ],
   "source": [
    "test_images.shape"
   ]
  },
  {
   "cell_type": "markdown",
   "metadata": {
    "id": "NkTk_czjsmTp"
   },
   "source": [
    "* And there are 10,000 images in test dataset of shape 28x28"
   ]
  },
  {
   "cell_type": "code",
   "execution_count": 11,
   "metadata": {
    "id": "l7bbDVFssXjW"
   },
   "outputs": [],
   "source": [
    "#Preprocessing Images\n",
    "\n",
    "# Normalize the image so that each pixel value is between 0 to 1.\n",
    "train_images = train_images / 255.0\n",
    "test_images = test_images / 255.0"
   ]
  },
  {
   "cell_type": "code",
   "execution_count": 12,
   "metadata": {
    "id": "opyURkj-tdOD"
   },
   "outputs": [],
   "source": [
    "# Defining the model architecture\n",
    "model = keras.Sequential([\n",
    "  keras.layers.InputLayer(input_shape=(28, 28)),\n",
    "  keras.layers.Reshape(target_shape=(28, 28, 1)),\n",
    "\n",
    "  keras.layers.Conv2D(filters=24, kernel_size=(3, 3), activation='relu'),\n",
    "  keras.layers.MaxPooling2D(pool_size=(2, 2)),\n",
    "\n",
    "  keras.layers.Conv2D(filters=12, kernel_size=(3, 3), activation='relu'),\n",
    "  keras.layers.MaxPooling2D(pool_size=(2, 2)),\n",
    "\n",
    "  keras.layers.Conv2D(filters=8, kernel_size=(3, 3), activation='relu'),\n",
    "  keras.layers.MaxPooling2D(pool_size=(2, 2)),\n",
    "\n",
    "  keras.layers.Flatten(),\n",
    "  keras.layers.Dense(128),\n",
    "  keras.layers.Dense(64),\n",
    "  keras.layers.Dense(10)\n",
    "])\n"
   ]
  },
  {
   "cell_type": "markdown",
   "metadata": {
    "id": "4iy1vqk7s6DR"
   },
   "source": [
    "## A) Before Pruning\n"
   ]
  },
  {
   "cell_type": "code",
   "execution_count": 13,
   "metadata": {
    "id": "IA4iSRTpuk7C"
   },
   "outputs": [],
   "source": [
    "# defining the compiler\n",
    "model.compile(optimizer='adam',\n",
    "              loss=tf.keras.losses.SparseCategoricalCrossentropy(from_logits=True),\n",
    "              metrics=['accuracy'])"
   ]
  },
  {
   "cell_type": "code",
   "execution_count": 17,
   "metadata": {
    "colab": {
     "base_uri": "https://localhost:8080/"
    },
    "id": "ITyqoIGbuvfa",
    "outputId": "2b4f44e1-063b-45f3-cc98-3c2ca8cbb1e2"
   },
   "outputs": [
    {
     "name": "stdout",
     "output_type": "stream",
     "text": [
      "Epoch 1/5\n",
      "1688/1688 [==============================] - 31s 19ms/step - loss: 0.6052 - accuracy: 0.7815 - val_loss: 0.5529 - val_accuracy: 0.7897\n",
      "Epoch 2/5\n",
      "1688/1688 [==============================] - 31s 18ms/step - loss: 0.5059 - accuracy: 0.8177 - val_loss: 0.4970 - val_accuracy: 0.8203\n",
      "Epoch 3/5\n",
      "1688/1688 [==============================] - 31s 18ms/step - loss: 0.4632 - accuracy: 0.8317 - val_loss: 0.4406 - val_accuracy: 0.8360\n",
      "Epoch 4/5\n",
      "1688/1688 [==============================] - 31s 18ms/step - loss: 0.4363 - accuracy: 0.8407 - val_loss: 0.4270 - val_accuracy: 0.8422\n",
      "Epoch 5/5\n",
      "1688/1688 [==============================] - 31s 18ms/step - loss: 0.4162 - accuracy: 0.8485 - val_loss: 0.4163 - val_accuracy: 0.8452\n",
      "Time Taken for Training : 155.76025271\n"
     ]
    }
   ],
   "source": [
    "# Calculating Training time\n",
    "start = time.time() #starting\n",
    "\n",
    "#Training\n",
    "model.fit(train_images,train_labels,epochs=5,validation_split=0.1)\n",
    "\n",
    "end = time.time() #stoping\n",
    "\n",
    "temp = end - start\n",
    "print ('Time Taken for Training : %.8f'%temp)"
   ]
  },
  {
   "cell_type": "markdown",
   "metadata": {
    "id": "CyE9XT3Pxsey"
   },
   "source": [
    "**Evaluating Model**"
   ]
  },
  {
   "cell_type": "code",
   "execution_count": 20,
   "metadata": {
    "colab": {
     "base_uri": "https://localhost:8080/"
    },
    "id": "-twJN5fTvk4s",
    "outputId": "e7eeeb86-afb9-4696-d1ac-a5e52cbfe4f2"
   },
   "outputs": [
    {
     "name": "stdout",
     "output_type": "stream",
     "text": [
      "Accuracy :  0.8420000076293945\n"
     ]
    }
   ],
   "source": [
    "#calculating accuracy\n",
    "score = model.evaluate(test_images, test_labels, verbose=0)\n",
    "\n",
    "# Model Accuracy\n",
    "print(\"Accuracy : \",score[1]) "
   ]
  },
  {
   "cell_type": "markdown",
   "metadata": {
    "id": "LCjRfN_pR5-F"
   },
   "source": [
    "* I am not trying to fine tune this model as it is not the motive of this case study ."
   ]
  },
  {
   "cell_type": "code",
   "execution_count": 54,
   "metadata": {
    "id": "GQajWGH1_BOc"
   },
   "outputs": [],
   "source": [
    "class_names = ['T-shirt/top', 'Trouser', 'Pullover', 'Dress', 'Coat','Sandal', 'Shirt', 'Sneaker', 'Bag', 'Ankle boot']"
   ]
  },
  {
   "cell_type": "code",
   "execution_count": 56,
   "metadata": {
    "colab": {
     "base_uri": "https://localhost:8080/"
    },
    "id": "FeKvgqekxJn3",
    "outputId": "95fe7f85-7080-4270-fc1d-81bc0bc7147b"
   },
   "outputs": [
    {
     "name": "stdout",
     "output_type": "stream",
     "text": [
      "Prediction :  Trouser\n",
      "Actual Value:  Trouser\n",
      "Time Taken for predicting one data point : 0.04644275\n"
     ]
    }
   ],
   "source": [
    "#calculating time taken for predicting one image\n",
    "\n",
    "image = test_images[5]\n",
    "image = image.reshape(1, 784)\n",
    "\n",
    "start = time.time() #starting\n",
    "\n",
    "#Predicting\n",
    "predictions = model.predict(image)\n",
    "print(\"Prediction : \",class_names[np.argmax(predictions[0])])\n",
    "\n",
    "end = time.time() #stoping\n",
    "\n",
    "print(\"Actual Value: \",class_names[test_labels[5]])\n",
    "\n",
    "temp=end - start\n",
    "print ('Time Taken for predicting one data point : %.8f'%temp)"
   ]
  },
  {
   "cell_type": "markdown",
   "metadata": {
    "id": "On0k39RtAr7j"
   },
   "source": [
    "**Calculating the size of classifier**"
   ]
  },
  {
   "cell_type": "code",
   "execution_count": 57,
   "metadata": {
    "id": "oj4b3qnx__1p"
   },
   "outputs": [],
   "source": [
    "model.save('model.h5')"
   ]
  },
  {
   "cell_type": "code",
   "execution_count": 98,
   "metadata": {
    "colab": {
     "base_uri": "https://localhost:8080/"
    },
    "id": "aEMYp3qcDcX4",
    "outputId": "151f66a5-9de9-4611-8d1b-8dc57bafd574"
   },
   "outputs": [
    {
     "name": "stdout",
     "output_type": "stream",
     "text": [
      "Size of model : 228032\n"
     ]
    }
   ],
   "source": [
    "print(\"Size of model : 228032\") #size from my directory"
   ]
  },
  {
   "cell_type": "markdown",
   "metadata": {
    "id": "5d8ti8IPLibe"
   },
   "source": [
    "## B) After Pruning\n",
    "\n",
    "#### There are three types of pruning :-\n",
    "1. **Iterative Pruning** : Prune-Train-Repeat\n",
    "2. **Weight pruning** : Set individual weights in the weight matrix to zero. This corresponds to deleting connections between neurons.\n",
    "3. **Neuron pruning** : Set entire columns to zero in the weight matrix , in effect deleting the corresponding neuron.\n",
    "\n",
    "*I will be implementing these techniques using simple TF APIs and same model architecture.*\n",
    "\n",
    "Note :- These techniques can be implemented using just basic coding and no API <a href='https://www.kaggle.com/nitinsss/pruning-a-neural-network/notebook#5.-Pruning-Strategy'>link</a>.\n"
   ]
  },
  {
   "cell_type": "code",
   "execution_count": 67,
   "metadata": {
    "colab": {
     "base_uri": "https://localhost:8080/"
    },
    "id": "N6seDhvUFg1k",
    "outputId": "729d708b-ae9a-451f-d19a-c2f0cc42454e"
   },
   "outputs": [
    {
     "name": "stdout",
     "output_type": "stream",
     "text": [
      "WARNING:tensorflow:From /usr/local/lib/python3.6/dist-packages/tensorflow_model_optimization/python/core/sparsity/keras/pruning_wrapper.py:220: Layer.add_variable (from tensorflow.python.keras.engine.base_layer) is deprecated and will be removed in a future version.\n",
      "Instructions for updating:\n",
      "Please use `layer.add_weight` method instead.\n"
     ]
    }
   ],
   "source": [
    "batch_size = 128\n",
    "epochs = 5\n",
    "validation_split = 0.1  \n",
    "\n",
    "n_images = train_images.shape[0] * (1 - validation_split) #calculating number of images in training set after subtracting validation set\n",
    "last_step = np.ceil(n_images / batch_size).astype(np.int32) * epochs\n",
    "\n",
    "# Define model for pruning.\n",
    "pruning_para = {\n",
    "      'pruning_schedule': tfmot.sparsity.keras.PolynomialDecay(initial_sparsity=0.50,\n",
    "                                                               final_sparsity=0.80,\n",
    "                                                               begin_step=0,\n",
    "                                                               end_step=last_step)\n",
    "}\n",
    "\n",
    "pruning_model = tfmot.sparsity.keras.prune_low_magnitude(model, **pruning_para)"
   ]
  },
  {
   "cell_type": "code",
   "execution_count": 68,
   "metadata": {
    "id": "KvRFKebpptRS"
   },
   "outputs": [],
   "source": [
    "#defining the compiler\n",
    "pruning_model.compile(optimizer='adam',\n",
    "              loss=tf.keras.losses.SparseCategoricalCrossentropy(from_logits=True),\n",
    "              metrics=['accuracy'])"
   ]
  },
  {
   "cell_type": "code",
   "execution_count": 72,
   "metadata": {
    "id": "pHYhAkwrq7Fr"
   },
   "outputs": [],
   "source": [
    "#adding callbacks\n",
    "callback = [\n",
    "  tfmot.sparsity.keras.UpdatePruningStep(),\n",
    "  tfmot.sparsity.keras.PruningSummaries(log_dir=tempfile.mkdtemp()),\n",
    "]"
   ]
  },
  {
   "cell_type": "code",
   "execution_count": 73,
   "metadata": {
    "colab": {
     "base_uri": "https://localhost:8080/"
    },
    "id": "nzk8kTVlqR0z",
    "outputId": "b295db63-8d37-4ed1-92da-be19a2bdb594"
   },
   "outputs": [
    {
     "name": "stdout",
     "output_type": "stream",
     "text": [
      "Epoch 1/5\n",
      "\r",
      "  1/422 [..............................] - ETA: 0s - loss: 0.8593 - accuracy: 0.6641WARNING:tensorflow:From /usr/local/lib/python3.6/dist-packages/tensorflow/python/ops/summary_ops_v2.py:1277: stop (from tensorflow.python.eager.profiler) is deprecated and will be removed after 2020-07-01.\n",
      "Instructions for updating:\n",
      "use `tf.profiler.experimental.stop` instead.\n",
      "422/422 [==============================] - 25s 60ms/step - loss: 0.4308 - accuracy: 0.8448 - val_loss: 0.4430 - val_accuracy: 0.8388\n",
      "Epoch 2/5\n",
      "422/422 [==============================] - 25s 60ms/step - loss: 0.4411 - accuracy: 0.8394 - val_loss: 0.4573 - val_accuracy: 0.8332\n",
      "Epoch 3/5\n",
      "422/422 [==============================] - 25s 60ms/step - loss: 0.4631 - accuracy: 0.8314 - val_loss: 0.4567 - val_accuracy: 0.8352\n",
      "Epoch 4/5\n",
      "422/422 [==============================] - 25s 60ms/step - loss: 0.4528 - accuracy: 0.8348 - val_loss: 0.4547 - val_accuracy: 0.8332\n",
      "Epoch 5/5\n",
      "422/422 [==============================] - 25s 60ms/step - loss: 0.4363 - accuracy: 0.8406 - val_loss: 0.4496 - val_accuracy: 0.8370\n",
      "Time Taken for Training : 127.03279853\n"
     ]
    }
   ],
   "source": [
    "# Calculating Training time\n",
    "start = time.time() #starting\n",
    "\n",
    "#Training\n",
    "pruning_model.fit(train_images, train_labels,batch_size = batch_size, epochs=epochs, validation_split=validation_split,callbacks=callback)\n",
    "\n",
    "end = time.time() #stoping\n",
    "\n",
    "temp = end - start\n",
    "print ('Time Taken for Training : %.8f'%temp)"
   ]
  },
  {
   "cell_type": "markdown",
   "metadata": {
    "id": "AXZiOHt6rawt"
   },
   "source": [
    "**Evaluating the model**"
   ]
  },
  {
   "cell_type": "code",
   "execution_count": 74,
   "metadata": {
    "colab": {
     "base_uri": "https://localhost:8080/"
    },
    "id": "dJW5rc3pquwY",
    "outputId": "b8079170-d542-4a4e-ddda-0e145fa5a3a6"
   },
   "outputs": [
    {
     "name": "stdout",
     "output_type": "stream",
     "text": [
      "Pruned test accuracy: 0.8312000036239624\n"
     ]
    }
   ],
   "source": [
    "_, accuracy = pruning_model.evaluate(test_images, test_labels, verbose=0)\n",
    " \n",
    "print('Pruned test accuracy:', accuracy)"
   ]
  },
  {
   "cell_type": "code",
   "execution_count": 76,
   "metadata": {
    "colab": {
     "base_uri": "https://localhost:8080/"
    },
    "id": "gi9ZAXi2r8pB",
    "outputId": "255c2656-a60c-4786-e545-6132616d51f8"
   },
   "outputs": [
    {
     "name": "stdout",
     "output_type": "stream",
     "text": [
      "Prediction :  Trouser\n",
      "Actual Value:  Trouser\n",
      "Time Taken for predicting one data point : 0.03753209\n"
     ]
    }
   ],
   "source": [
    "#calculating time taken for predicting one image\n",
    "\n",
    "image = test_images[5]\n",
    "image = image.reshape(1, 784)\n",
    "\n",
    "start = time.time() #starting\n",
    "\n",
    "#Predicting\n",
    "predictions = pruning_model.predict(image)\n",
    "print(\"Prediction : \",class_names[np.argmax(predictions[0])])\n",
    "\n",
    "end = time.time() #stoping\n",
    "\n",
    "print(\"Actual Value: \",class_names[test_labels[5]])\n",
    "\n",
    "temp=end - start\n",
    "print ('Time Taken for predicting one data point : %.8f'%temp)"
   ]
  },
  {
   "cell_type": "markdown",
   "metadata": {
    "id": "BRhbe3Vayi0j"
   },
   "source": [
    "**Calculating the size of classifier**"
   ]
  },
  {
   "cell_type": "markdown",
   "metadata": {
    "id": "tfKVygEBs6In"
   },
   "source": [
    "*Applying a standard **compression algorithm** is necessary since the new weight matrices are the same size as they were before pruning. But, pruning makes most of the weights zeros, which is added redundancy that this algorithm can utilize to further compress the model.*"
   ]
  },
  {
   "cell_type": "code",
   "execution_count": 91,
   "metadata": {
    "id": "Ckgv0M3jy0i5"
   },
   "outputs": [],
   "source": [
    "#performing compression on the model\n",
    "final_model = tfmot.sparsity.keras.strip_pruning(pruning_model)"
   ]
  },
  {
   "cell_type": "code",
   "execution_count": 93,
   "metadata": {
    "colab": {
     "base_uri": "https://localhost:8080/"
    },
    "id": "5MlhLRZg6HCH",
    "outputId": "4bd8e330-2b72-4b7b-e1d2-b100db97d0ec"
   },
   "outputs": [
    {
     "name": "stdout",
     "output_type": "stream",
     "text": [
      "Size of model :  87496\n"
     ]
    }
   ],
   "source": [
    "final_model.save('model2.h5') \n",
    "\n",
    "print(\"Size of model : \",os.stat('model2.h5').st_size)"
   ]
  },
  {
   "cell_type": "markdown",
   "metadata": {
    "id": "uhernN_g3nKa"
   },
   "source": [
    "* We cannot further compress the model but we can compress the file using simple zip compression alogrithm .\n",
    "* This creates a zip file of compressed model h5 file.\n",
    "* The purpose of doing this is, you can further compress the already compressed model file without actually further compressing the model and faster transfer process.\n",
    "\n",
    "Directory :<br>\n",
    "zipped_file.zip ( size: 20kb(Eg) )<br>\n",
    "|<br>\n",
    "|_ _ _ _ _ _ _ _ _ _ _model.h5 ( size: 80kb(Eg) )"
   ]
  },
  {
   "cell_type": "code",
   "execution_count": 94,
   "metadata": {
    "id": "fn82J-DV0AiQ"
   },
   "outputs": [],
   "source": [
    "#making a h5 file format\n",
    "_, pruned_keras_file = tempfile.mkstemp('.h5')\n",
    "tf.keras.models.save_model(final_model, pruned_keras_file, include_optimizer=False)"
   ]
  },
  {
   "cell_type": "code",
   "execution_count": 95,
   "metadata": {
    "id": "9gSHndc11Lu6"
   },
   "outputs": [],
   "source": [
    "#zipping(compressing) the model\n",
    "_, zipped_file = tempfile.mkstemp('.zip')\n",
    "with zipfile.ZipFile(zipped_file, 'w', compression=zipfile.ZIP_DEFLATED) as f:\n",
    "  f.write(pruned_keras_file)"
   ]
  },
  {
   "cell_type": "code",
   "execution_count": 96,
   "metadata": {
    "colab": {
     "base_uri": "https://localhost:8080/"
    },
    "id": "0B_Aqiex1MrX",
    "outputId": "b91ce18e-9e11-420c-d569-2bb07eae1e87"
   },
   "outputs": [
    {
     "name": "stdout",
     "output_type": "stream",
     "text": [
      "Size of zipped model :  19979\n"
     ]
    }
   ],
   "source": [
    "print(\"Size of zipped model : \",os.path.getsize(zipped_file))"
   ]
  },
  {
   "cell_type": "markdown",
   "metadata": {
    "id": "aCWBQ9Df7tNT"
   },
   "source": [
    "## 3) Results\n",
    "\n",
    "* Pruning is an old method but effective. There are other new techniques which are more effective ,so developers rarely used pruning. \n",
    "\n",
    "![drawedit.png](data:image/png;base64,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)"
   ]
  },
  {
   "cell_type": "markdown",
   "metadata": {
    "id": "20SLH2XnPVfS"
   },
   "source": [
    "**Observations**\n",
    "\n",
    "\n",
    "Pros\n",
    "1.   After pruning, the training time always decreases in both the models.\n",
    "2.   There is also a minute decrease in prediction time as i was only predicting one data point but when scaled up, it will create a pretty good difference.\n",
    "3.   Major difference was seen in the decrease in file size of model which is huge.\n",
    "\n",
    "Cons\n",
    "* There is minute decrease in the accuracy also but it is not that huge and acceptable.\n",
    "\n"
   ]
  },
  {
   "cell_type": "markdown",
   "metadata": {
    "id": "F6TV3TqQQwLC"
   },
   "source": [
    "**References**\n",
    "* Decision Tree :- <a href=\"https://www.datacamp.com/community/tutorials/decision-tree-classification-python\">Link</a>\n",
    "* Deep Neural Network :- <a href=\"https://medium.com/@souvik.paul01/pruning-in-deep-learning-models-1067a19acd89\">Link1</a>\n",
    "<a href=\"https://towardsdatascience.com/pruning-deep-neural-network-56cae1ec5505\">Link2</a>\n",
    "<a href=\"https://www.kaggle.com/nitinsss/pruning-a-neural-network/notebook#5.-Pruning-Strategy\">Link3</a>\n",
    "<a href=\"https://github.com/tensorflow/model-optimization/blob/master/tensorflow_model_optimization/g3doc/guide/pruning/pruning_with_keras.ipynb\">Link4</a>\n",
    "\n",
    "\n",
    "\n"
   ]
  },
  {
   "cell_type": "code",
   "execution_count": null,
   "metadata": {
    "id": "efzSkQijzdnD"
   },
   "outputs": [],
   "source": []
  }
 ],
 "metadata": {
  "colab": {
   "name": "Model_Pruning.ipynb",
   "provenance": []
  },
  "kernelspec": {
   "display_name": "Python 3",
   "language": "python",
   "name": "python3"
  },
  "language_info": {
   "codemirror_mode": {
    "name": "ipython",
    "version": 3
   },
   "file_extension": ".py",
   "mimetype": "text/x-python",
   "name": "python",
   "nbconvert_exporter": "python",
   "pygments_lexer": "ipython3",
   "version": "3.8.6"
  }
 },
 "nbformat": 4,
 "nbformat_minor": 1
}
